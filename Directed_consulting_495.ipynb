{
  "nbformat": 4,
  "nbformat_minor": 0,
  "metadata": {
    "colab": {
      "name": "Directed consulting 495",
      "provenance": [],
      "include_colab_link": true
    },
    "kernelspec": {
      "name": "python3",
      "display_name": "Python 3"
    },
    "language_info": {
      "name": "python"
    }
  },
  "cells": [
    {
      "cell_type": "markdown",
      "metadata": {
        "id": "view-in-github",
        "colab_type": "text"
      },
      "source": [
        "<a href=\"https://colab.research.google.com/github/jfernandez37/495Project/blob/main/Directed_consulting_495.ipynb\" target=\"_parent\"><img src=\"https://colab.research.google.com/assets/colab-badge.svg\" alt=\"Open In Colab\"/></a>"
      ]
    },
    {
      "cell_type": "code",
      "source": [
        "import pandas as pd\n",
        "import numpy as np\n",
        "import scipy.io as sio\n",
        "import plotly\n",
        "import matplotlib.pyplot as plt"
      ],
      "metadata": {
        "id": "-btvoRMjcVXL"
      },
      "execution_count": 1,
      "outputs": []
    },
    {
      "cell_type": "code",
      "source": [
        "stuff=sio.loadmat(\"iFarmData(2015)_1_28_2019.mat\")"
      ],
      "metadata": {
        "id": "2JUPlT2scyNi"
      },
      "execution_count": 2,
      "outputs": []
    },
    {
      "cell_type": "code",
      "source": [
        "#print(stuff)"
      ],
      "metadata": {
        "id": "rh_r3qDqeGM8"
      },
      "execution_count": 3,
      "outputs": []
    },
    {
      "cell_type": "code",
      "source": [
        "print(type(stuff))\n",
        "print(type(stuff['Pr_Crop_US']))"
      ],
      "metadata": {
        "id": "i93Uhp2Iarb1",
        "colab": {
          "base_uri": "https://localhost:8080/"
        },
        "outputId": "35b1ffa4-c377-4d71-f0fe-8382297d64df"
      },
      "execution_count": 4,
      "outputs": [
        {
          "output_type": "stream",
          "name": "stdout",
          "text": [
            "<class 'dict'>\n",
            "<class 'numpy.ndarray'>\n"
          ]
        }
      ]
    },
    {
      "cell_type": "code",
      "source": [
        "search=str(input())\n",
        "coID=122\n",
        "for i in range(169):\n",
        "  cropID=i\n",
        "  cropName=str(stuff['FAOSTAT_CrName_FAO'][cropID])\n",
        "  testSplit=cropName.split(\"[\")\n",
        "  cropName=testSplit[2].split(\"]\")[0]\n",
        "  cropName=cropName.replace(\"'\",\"\")\n",
        "  coName=str(stuff['FAOSTAT_CoName_FAO'][coID])\n",
        "  testSplitCo=coName.split(\"[\")\n",
        "  coName=testSplitCo[2].split(\"]\")[0]\n",
        "  coName=coName.replace(\"'\",\"\")\n",
        "  #print(cropName)\n",
        "  if search.upper() in cropName.upper():\n",
        "    y=stuff['Pr_Crop_US'][122][cropID]\n",
        "    #print(len(stuff['Pr_Crop_US'][0][0]))\n",
        "    x=np.arange(1961,2016)\n",
        "    plt.figure(i)\n",
        "    plt.title(coName+ \" \"+cropName+ \" Graph\")\n",
        "    plt.xlabel(\"Year\")\n",
        "    plt.ylabel(\"Crop price at farmer's gate (USD/KG) for \" + cropName)\n",
        "    plt.plot(x,y,color=\"red\")\n",
        "    plt.show"
      ],
      "metadata": {
        "id": "_B7dNANxZpZH",
        "colab": {
          "base_uri": "https://localhost:8080/",
          "height": 602
        },
        "outputId": "013daa50-7667-4e3c-85b8-eb770a18c6e2"
      },
      "execution_count": 39,
      "outputs": [
        {
          "name": "stdout",
          "output_type": "stream",
          "text": [
            "cherr\n"
          ]
        },
        {
          "output_type": "display_data",
          "data": {
            "image/png": "[encoded data removed]",
            "text/plain": [
              "<Figure size 432x288 with 1 Axes>"
            ]
          },
          "metadata": {
            "needs_background": "light"
          }
        },
        {
          "output_type": "display_data",
          "data": {
            "image/png": "[encoded data removed]",
            "text/plain": [
              "<Figure size 432x288 with 1 Axes>"
            ]
          },
          "metadata": {
            "needs_background": "light"
          }
        }
      ]
    },
    {
      "cell_type": "markdown",
      "source": [
        "The crop price starts to stabalize around the time that nafta was enacted (1994)"
      ],
      "metadata": {
        "id": "ByIlNmbHc0z6"
      }
    },
    {
      "cell_type": "markdown",
      "source": [
        "Index for US: 206\n",
        "Index for Mexico: 122\n",
        "Index for Canada: 33"
      ],
      "metadata": {
        "id": "jGfhKi7fGyo3"
      }
    },
    {
      "cell_type": "code",
      "source": [
        "y=stuff['Nyield_kgkm'][206][124]\n",
        "print(len(stuff['Pr_Crop_US'][0][1]))\n",
        "x=np.arange(1961,2016)\n",
        "plt.title(\"US Nitrogen content yield graph\")\n",
        "plt.xlabel(\"Year\")\n",
        "plt.ylabel(\"Nitrogen content (kg)\")\n",
        "plt.plot(x,y,color=\"green\")\n",
        "plt.show"
      ],
      "metadata": {
        "id": "7JDsB_bnbqHR",
        "colab": {
          "base_uri": "https://localhost:8080/",
          "height": 330
        },
        "outputId": "7048d257-7067-4ad3-be53-fcc9b9026883"
      },
      "execution_count": 8,
      "outputs": [
        {
          "output_type": "stream",
          "name": "stdout",
          "text": [
            "55\n"
          ]
        },
        {
          "output_type": "execute_result",
          "data": {
            "text/plain": [
              "<function matplotlib.pyplot.show>"
            ]
          },
          "metadata": {},
          "execution_count": 8
        },
        {
          "output_type": "display_data",
          "data": {
            "image/png": "[encoded data removed]",
            "text/plain": [
              "<Figure size 432x288 with 1 Axes>"
            ]
          },
          "metadata": {
            "needs_background": "light"
          }
        }
      ]
    },
    {
      "cell_type": "code",
      "source": [
        "y=stuff['netImTrade'][124][5][5]\n",
        "#print(len(stuff['Pr_Crop_US'][0][1]))\n",
        "x=np.arange(0,218)\n",
        "plt.title(\"Net trade of potatoes in the US\")\n",
        "plt.xlabel(\"Year\")\n",
        "plt.ylabel(\"kg of potatoes\")\n",
        "plt.plot(x,y,color=\"brown\")\n",
        "plt.show"
      ],
      "metadata": {
        "id": "CTF1luphI0N_"
      },
      "execution_count": null,
      "outputs": []
    },
    {
      "cell_type": "code",
      "source": [
        "for i in range(170):\n",
        "  print(stuff['FAOSTAT_CrName_FAO'][i])\n",
        "  print(\"Index\" +str(i))"
      ],
      "metadata": {
        "id": "OYwmUeEQGEF5"
      },
      "execution_count": null,
      "outputs": []
    },
    {
      "cell_type": "code",
      "source": [
        "for i in range(209):\n",
        "  print(stuff['FAOSTAT_CoName_FAO'][i])\n",
        "  print(\"Index\" +str(i))"
      ],
      "metadata": {
        "colab": {
          "base_uri": "https://localhost:8080/"
        },
        "id": "nH9Z_9_vGQ2i",
        "outputId": "bccc9ebc-1282-4897-a28b-c809afd2fc2b"
      },
      "execution_count": 35,
      "outputs": [
        {
          "output_type": "stream",
          "name": "stdout",
          "text": [
            "[array(['Afghanistan'], dtype='<U11')]\n",
            "Index0\n",
            "[array(['Albania'], dtype='<U7')]\n",
            "Index1\n",
            "[array(['Algeria'], dtype='<U7')]\n",
            "Index2\n",
            "[array(['American Samoa'], dtype='<U14')]\n",
            "Index3\n",
            "[array(['Angola'], dtype='<U6')]\n",
            "Index4\n",
            "[array(['Antigua and Barbuda'], dtype='<U19')]\n",
            "Index5\n",
            "[array(['Argentina'], dtype='<U9')]\n",
            "Index6\n",
            "[array(['Armenia'], dtype='<U7')]\n",
            "Index7\n",
            "[array(['Australia'], dtype='<U9')]\n",
            "Index8\n",
            "[array(['Austria'], dtype='<U7')]\n",
            "Index9\n",
            "[array(['Azerbaijan'], dtype='<U10')]\n",
            "Index10\n",
            "[array(['Bahamas'], dtype='<U7')]\n",
            "Index11\n",
            "[array(['Bahrain'], dtype='<U7')]\n",
            "Index12\n",
            "[array(['Bangladesh'], dtype='<U10')]\n",
            "Index13\n",
            "[array(['Barbados'], dtype='<U8')]\n",
            "Index14\n",
            "[array(['Belarus'], dtype='<U7')]\n",
            "Index15\n",
            "[array(['Belgium'], dtype='<U7')]\n",
            "Index16\n",
            "[array(['Belgium-Luxembourg'], dtype='<U18')]\n",
            "Index17\n",
            "[array(['Belize'], dtype='<U6')]\n",
            "Index18\n",
            "[array(['Benin'], dtype='<U5')]\n",
            "Index19\n",
            "[array(['Bermuda'], dtype='<U7')]\n",
            "Index20\n",
            "[array(['Bhutan'], dtype='<U6')]\n",
            "Index21\n",
            "[array(['Bolivia (Plurinational State of)'], dtype='<U32')]\n",
            "Index22\n",
            "[array(['Bosnia and Herzegovina'], dtype='<U22')]\n",
            "Index23\n",
            "[array(['Botswana'], dtype='<U8')]\n",
            "Index24\n",
            "[array(['Brazil'], dtype='<U6')]\n",
            "Index25\n",
            "[array(['British Virgin Islands'], dtype='<U22')]\n",
            "Index26\n",
            "[array(['Brunei Darussalam'], dtype='<U17')]\n",
            "Index27\n",
            "[array(['Bulgaria'], dtype='<U8')]\n",
            "Index28\n",
            "[array(['Burkina Faso'], dtype='<U12')]\n",
            "Index29\n",
            "[array(['Burundi'], dtype='<U7')]\n",
            "Index30\n",
            "[array(['Cambodia'], dtype='<U8')]\n",
            "Index31\n",
            "[array(['Cameroon'], dtype='<U8')]\n",
            "Index32\n",
            "[array(['Canada'], dtype='<U6')]\n",
            "Index33\n",
            "[array(['Cape Verde'], dtype='<U10')]\n",
            "Index34\n",
            "[array(['Cayman Islands'], dtype='<U14')]\n",
            "Index35\n",
            "[array(['Central African Republic'], dtype='<U24')]\n",
            "Index36\n",
            "[array(['Chad'], dtype='<U4')]\n",
            "Index37\n",
            "[array(['Chile'], dtype='<U5')]\n",
            "Index38\n",
            "[array(['China'], dtype='<U5')]\n",
            "Index39\n",
            "[array(['Colombia'], dtype='<U8')]\n",
            "Index40\n",
            "[array(['Comoros'], dtype='<U7')]\n",
            "Index41\n",
            "[array(['Congo'], dtype='<U5')]\n",
            "Index42\n",
            "[array(['Cook Islands'], dtype='<U12')]\n",
            "Index43\n",
            "[array(['Costa Rica'], dtype='<U10')]\n",
            "Index44\n",
            "[array(['Croatia'], dtype='<U7')]\n",
            "Index45\n",
            "[array(['Cuba'], dtype='<U4')]\n",
            "Index46\n",
            "[array(['Cyprus'], dtype='<U6')]\n",
            "Index47\n",
            "[array(['Czech Republic'], dtype='<U14')]\n",
            "Index48\n",
            "[array(['Czechoslovakia'], dtype='<U14')]\n",
            "Index49\n",
            "[array(['C?te dIvoire'], dtype='<U12')]\n",
            "Index50\n",
            "[array(['Democratic Peoples Republic of Korea'], dtype='<U36')]\n",
            "Index51\n",
            "[array(['Democratic Republic of the Congo'], dtype='<U32')]\n",
            "Index52\n",
            "[array(['Denmark'], dtype='<U7')]\n",
            "Index53\n",
            "[array(['Djibouti'], dtype='<U8')]\n",
            "Index54\n",
            "[array(['Dominica'], dtype='<U8')]\n",
            "Index55\n",
            "[array(['Dominican Republic'], dtype='<U18')]\n",
            "Index56\n",
            "[array(['Ecuador'], dtype='<U7')]\n",
            "Index57\n",
            "[array(['Egypt'], dtype='<U5')]\n",
            "Index58\n",
            "[array(['El Salvador'], dtype='<U11')]\n",
            "Index59\n",
            "[array(['Equatorial Guinea'], dtype='<U17')]\n",
            "Index60\n",
            "[array(['Eritrea'], dtype='<U7')]\n",
            "Index61\n",
            "[array(['Estonia'], dtype='<U7')]\n",
            "Index62\n",
            "[array(['Ethiopia'], dtype='<U8')]\n",
            "Index63\n",
            "[array(['Ethiopia PDR'], dtype='<U12')]\n",
            "Index64\n",
            "[array(['Faroe Islands'], dtype='<U13')]\n",
            "Index65\n",
            "[array(['Fiji'], dtype='<U4')]\n",
            "Index66\n",
            "[array(['Finland'], dtype='<U7')]\n",
            "Index67\n",
            "[array(['France'], dtype='<U6')]\n",
            "Index68\n",
            "[array(['French Guiana'], dtype='<U13')]\n",
            "Index69\n",
            "[array(['French Polynesia'], dtype='<U16')]\n",
            "Index70\n",
            "[array(['Gabon'], dtype='<U5')]\n",
            "Index71\n",
            "[array(['Gambia'], dtype='<U6')]\n",
            "Index72\n",
            "[array(['Georgia'], dtype='<U7')]\n",
            "Index73\n",
            "[array(['Germany'], dtype='<U7')]\n",
            "Index74\n",
            "[array(['Ghana'], dtype='<U5')]\n",
            "Index75\n",
            "[array(['Greece'], dtype='<U6')]\n",
            "Index76\n",
            "[array(['Grenada'], dtype='<U7')]\n",
            "Index77\n",
            "[array(['Guadeloupe'], dtype='<U10')]\n",
            "Index78\n",
            "[array(['Guam'], dtype='<U4')]\n",
            "Index79\n",
            "[array(['Guatemala'], dtype='<U9')]\n",
            "Index80\n",
            "[array(['Guinea'], dtype='<U6')]\n",
            "Index81\n",
            "[array(['Guinea-Bissau'], dtype='<U13')]\n",
            "Index82\n",
            "[array(['Guyana'], dtype='<U6')]\n",
            "Index83\n",
            "[array(['Haiti'], dtype='<U5')]\n",
            "Index84\n",
            "[array(['Honduras'], dtype='<U8')]\n",
            "Index85\n",
            "[array(['Hungary'], dtype='<U7')]\n",
            "Index86\n",
            "[array(['Iceland'], dtype='<U7')]\n",
            "Index87\n",
            "[array(['India'], dtype='<U5')]\n",
            "Index88\n",
            "[array(['Indonesia'], dtype='<U9')]\n",
            "Index89\n",
            "[array(['Iran (Islamic Republic of)'], dtype='<U26')]\n",
            "Index90\n",
            "[array(['Iraq'], dtype='<U4')]\n",
            "Index91\n",
            "[array(['Ireland'], dtype='<U7')]\n",
            "Index92\n",
            "[array(['Israel'], dtype='<U6')]\n",
            "Index93\n",
            "[array(['Italy'], dtype='<U5')]\n",
            "Index94\n",
            "[array(['Jamaica'], dtype='<U7')]\n",
            "Index95\n",
            "[array(['Japan'], dtype='<U5')]\n",
            "Index96\n",
            "[array(['Jordan'], dtype='<U6')]\n",
            "Index97\n",
            "[array(['Kazakhstan'], dtype='<U10')]\n",
            "Index98\n",
            "[array(['Kenya'], dtype='<U5')]\n",
            "Index99\n",
            "[array(['Kiribati'], dtype='<U8')]\n",
            "Index100\n",
            "[array(['Kuwait'], dtype='<U6')]\n",
            "Index101\n",
            "[array(['Kyrgyzstan'], dtype='<U10')]\n",
            "Index102\n",
            "[array(['Lao Peoples Democratic Republic'], dtype='<U31')]\n",
            "Index103\n",
            "[array(['Latvia'], dtype='<U6')]\n",
            "Index104\n",
            "[array(['Lebanon'], dtype='<U7')]\n",
            "Index105\n",
            "[array(['Lesotho'], dtype='<U7')]\n",
            "Index106\n",
            "[array(['Liberia'], dtype='<U7')]\n",
            "Index107\n",
            "[array(['Libya'], dtype='<U5')]\n",
            "Index108\n",
            "[array(['Liechtenstein'], dtype='<U13')]\n",
            "Index109\n",
            "[array(['Lithuania'], dtype='<U9')]\n",
            "Index110\n",
            "[array(['Luxembourg'], dtype='<U10')]\n",
            "Index111\n",
            "[array(['Madagascar'], dtype='<U10')]\n",
            "Index112\n",
            "[array(['Malawi'], dtype='<U6')]\n",
            "Index113\n",
            "[array(['Malaysia'], dtype='<U8')]\n",
            "Index114\n",
            "[array(['Maldives'], dtype='<U8')]\n",
            "Index115\n",
            "[array(['Mali'], dtype='<U4')]\n",
            "Index116\n",
            "[array(['Malta'], dtype='<U5')]\n",
            "Index117\n",
            "[array(['Marshall Islands'], dtype='<U16')]\n",
            "Index118\n",
            "[array(['Martinique'], dtype='<U10')]\n",
            "Index119\n",
            "[array(['Mauritania'], dtype='<U10')]\n",
            "Index120\n",
            "[array(['Mauritius'], dtype='<U9')]\n",
            "Index121\n",
            "[array(['Mexico'], dtype='<U6')]\n",
            "Index122\n",
            "[array(['Micronesia (Federated States of)'], dtype='<U32')]\n",
            "Index123\n",
            "[array(['Mongolia'], dtype='<U8')]\n",
            "Index124\n",
            "[array(['Montenegro'], dtype='<U10')]\n",
            "Index125\n",
            "[array(['Montserrat'], dtype='<U10')]\n",
            "Index126\n",
            "[array(['Morocco'], dtype='<U7')]\n",
            "Index127\n",
            "[array(['Mozambique'], dtype='<U10')]\n",
            "Index128\n",
            "[array(['Myanmar'], dtype='<U7')]\n",
            "Index129\n",
            "[array(['Namibia'], dtype='<U7')]\n",
            "Index130\n",
            "[array(['Nauru'], dtype='<U5')]\n",
            "Index131\n",
            "[array(['Nepal'], dtype='<U5')]\n",
            "Index132\n",
            "[array(['Netherlands'], dtype='<U11')]\n",
            "Index133\n",
            "[array(['New Caledonia'], dtype='<U13')]\n",
            "Index134\n",
            "[array(['New Zealand'], dtype='<U11')]\n",
            "Index135\n",
            "[array(['Nicaragua'], dtype='<U9')]\n",
            "Index136\n",
            "[array(['Niger'], dtype='<U5')]\n",
            "Index137\n",
            "[array(['Nigeria'], dtype='<U7')]\n",
            "Index138\n",
            "[array(['Niue'], dtype='<U4')]\n",
            "Index139\n",
            "[array(['Norway'], dtype='<U6')]\n",
            "Index140\n",
            "[array(['Occupied Palestinian Territory'], dtype='<U30')]\n",
            "Index141\n",
            "[array(['Oman'], dtype='<U4')]\n",
            "Index142\n",
            "[array(['Pacific Islands Trust Territory'], dtype='<U31')]\n",
            "Index143\n",
            "[array(['Pakistan'], dtype='<U8')]\n",
            "Index144\n",
            "[array(['Panama'], dtype='<U6')]\n",
            "Index145\n",
            "[array(['Papua New Guinea'], dtype='<U16')]\n",
            "Index146\n",
            "[array(['Paraguay'], dtype='<U8')]\n",
            "Index147\n",
            "[array(['Peru'], dtype='<U4')]\n",
            "Index148\n",
            "[array(['Philippines'], dtype='<U11')]\n",
            "Index149\n",
            "[array(['Poland'], dtype='<U6')]\n",
            "Index150\n",
            "[array(['Portugal'], dtype='<U8')]\n",
            "Index151\n",
            "[array(['Puerto Rico'], dtype='<U11')]\n",
            "Index152\n",
            "[array(['Qatar'], dtype='<U5')]\n",
            "Index153\n",
            "[array(['Republic of Korea'], dtype='<U17')]\n",
            "Index154\n",
            "[array(['Republic of Moldova'], dtype='<U19')]\n",
            "Index155\n",
            "[array(['Romania'], dtype='<U7')]\n",
            "Index156\n",
            "[array(['Russian Federation'], dtype='<U18')]\n",
            "Index157\n",
            "[array(['Rwanda'], dtype='<U6')]\n",
            "Index158\n",
            "[array(['R?union'], dtype='<U7')]\n",
            "Index159\n",
            "[array(['Saint Helena'], dtype='<U12')]\n",
            "Index160\n",
            "[array(['Saint Kitts and Nevis'], dtype='<U21')]\n",
            "Index161\n",
            "[array(['Saint Lucia'], dtype='<U11')]\n",
            "Index162\n",
            "[array(['Saint Pierre and Miquelon'], dtype='<U25')]\n",
            "Index163\n",
            "[array(['Saint Vincent and the Grenadines'], dtype='<U32')]\n",
            "Index164\n",
            "[array(['Samoa'], dtype='<U5')]\n",
            "Index165\n",
            "[array(['Sao Tome and Principe'], dtype='<U21')]\n",
            "Index166\n",
            "[array(['Saudi Arabia'], dtype='<U12')]\n",
            "Index167\n",
            "[array(['Senegal'], dtype='<U7')]\n",
            "Index168\n",
            "[array(['Serbia'], dtype='<U6')]\n",
            "Index169\n",
            "[array(['Serbia and Montenegro'], dtype='<U21')]\n",
            "Index170\n",
            "[array(['Seychelles'], dtype='<U10')]\n",
            "Index171\n",
            "[array(['Sierra Leone'], dtype='<U12')]\n",
            "Index172\n",
            "[array(['Singapore'], dtype='<U9')]\n",
            "Index173\n",
            "[array(['Slovakia'], dtype='<U8')]\n",
            "Index174\n",
            "[array(['Slovenia'], dtype='<U8')]\n",
            "Index175\n",
            "[array(['Solomon Islands'], dtype='<U15')]\n",
            "Index176\n",
            "[array(['Somalia'], dtype='<U7')]\n",
            "Index177\n",
            "[array(['South Africa'], dtype='<U12')]\n",
            "Index178\n",
            "[array(['Spain'], dtype='<U5')]\n",
            "Index179\n",
            "[array(['Sri Lanka'], dtype='<U9')]\n",
            "Index180\n",
            "[array(['Sudan (former)'], dtype='<U14')]\n",
            "Index181\n",
            "[array(['Suriname'], dtype='<U8')]\n",
            "Index182\n",
            "[array(['Swaziland'], dtype='<U9')]\n",
            "Index183\n",
            "[array(['Sweden'], dtype='<U6')]\n",
            "Index184\n",
            "[array(['Switzerland'], dtype='<U11')]\n",
            "Index185\n",
            "[array(['Syrian Arab Republic'], dtype='<U20')]\n",
            "Index186\n",
            "[array(['Tajikistan'], dtype='<U10')]\n",
            "Index187\n",
            "[array(['Thailand'], dtype='<U8')]\n",
            "Index188\n",
            "[array(['The former Yugoslav Republic of Macedonia'], dtype='<U41')]\n",
            "Index189\n",
            "[array(['Timor-Leste'], dtype='<U11')]\n",
            "Index190\n",
            "[array(['Togo'], dtype='<U4')]\n",
            "Index191\n",
            "[array(['Tokelau'], dtype='<U7')]\n",
            "Index192\n",
            "[array(['Tonga'], dtype='<U5')]\n",
            "Index193\n",
            "[array(['Trinidad and Tobago'], dtype='<U19')]\n",
            "Index194\n",
            "[array(['Tunisia'], dtype='<U7')]\n",
            "Index195\n",
            "[array(['Turkey'], dtype='<U6')]\n",
            "Index196\n",
            "[array(['Turkmenistan'], dtype='<U12')]\n",
            "Index197\n",
            "[array(['Tuvalu'], dtype='<U6')]\n",
            "Index198\n",
            "[array(['USSR'], dtype='<U4')]\n",
            "Index199\n",
            "[array(['Uganda'], dtype='<U6')]\n",
            "Index200\n",
            "[array(['Ukraine'], dtype='<U7')]\n",
            "Index201\n",
            "[array(['United Arab Emirates'], dtype='<U20')]\n",
            "Index202\n",
            "[array(['United Kingdom'], dtype='<U14')]\n",
            "Index203\n",
            "[array(['United Republic of Tanzania'], dtype='<U27')]\n",
            "Index204\n",
            "[array(['United States Virgin Islands'], dtype='<U28')]\n",
            "Index205\n",
            "[array(['United States of America'], dtype='<U24')]\n",
            "Index206\n",
            "[array(['Uruguay'], dtype='<U7')]\n",
            "Index207\n",
            "[array(['Uzbekistan'], dtype='<U10')]\n",
            "Index208\n"
          ]
        }
      ]
    }
  ]
}