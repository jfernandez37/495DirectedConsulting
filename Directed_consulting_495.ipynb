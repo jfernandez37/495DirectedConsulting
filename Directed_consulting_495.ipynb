{
  "nbformat": 4,
  "nbformat_minor": 0,
  "metadata": {
    "colab": {
      "name": "Directed consulting 495",
      "provenance": [],
      "collapsed_sections": [],
      "include_colab_link": true
    },
    "kernelspec": {
      "name": "python3",
      "display_name": "Python 3"
    },
    "language_info": {
      "name": "python"
    }
  },
  "cells": [
    {
      "cell_type": "markdown",
      "metadata": {
        "id": "view-in-github",
        "colab_type": "text"
      },
      "source": [
        "<a href=\"https://colab.research.google.com/github/jfernandez37/495Project/blob/main/Directed_consulting_495.ipynb\" target=\"_parent\"><img src=\"https://colab.research.google.com/assets/colab-badge.svg\" alt=\"Open In Colab\"/></a>"
      ]
    },
    {
      "cell_type": "markdown",
      "source": [
        "Link to fao data: https://www.fao.org/faostat/en/#data"
      ],
      "metadata": {
        "id": "FeEjjD9kJpeI"
      }
    },
    {
      "cell_type": "markdown",
      "source": [
        "Better fao data: https://www.fao.org/faostat/en/#data/TM"
      ],
      "metadata": {
        "id": "I0piW18lMEJh"
      }
    },
    {
      "cell_type": "code",
      "source": [
        "import pandas as pd\n",
        "import numpy as np\n",
        "import scipy.io as sio\n",
        "import plotly\n",
        "import matplotlib.pyplot as plt"
      ],
      "metadata": {
        "id": "-btvoRMjcVXL"
      },
      "execution_count": 1,
      "outputs": []
    },
    {
      "cell_type": "code",
      "source": [
        "data=sio.loadmat(\"iFarmData(2015)_1_28_2019.mat\")"
      ],
      "metadata": {
        "id": "2JUPlT2scyNi"
      },
      "execution_count": 2,
      "outputs": []
    },
    {
      "cell_type": "code",
      "source": [
        "comparison=pd.read_csv(\"FAOSTAT_data_4-4-2022.csv\")\n",
        "orgComp=comparison.sort_values(['Value'], ascending=False)\n",
        "expComp=orgComp.loc[orgComp['Element']==\"Export Quantity\"]\n",
        "impComp=orgComp.loc[orgComp['Element']==\"Import Quantity\"]"
      ],
      "metadata": {
        "id": "dgLTENc1PRA3"
      },
      "execution_count": 3,
      "outputs": []
    },
    {
      "cell_type": "code",
      "source": [
        "print(comparison)"
      ],
      "metadata": {
        "colab": {
          "base_uri": "https://localhost:8080/"
        },
        "id": "jck7a7i5WUBW",
        "outputId": "a035bc20-2c58-492e-e7bb-253ba9678b94"
      },
      "execution_count": 4,
      "outputs": [
        {
          "output_type": "stream",
          "name": "stdout",
          "text": [
            "    Domain Code                 Domain  Reporter Country Code (FAO)  \\\n",
            "0            TM  Detailed trade matrix                          231   \n",
            "1            TM  Detailed trade matrix                          231   \n",
            "2            TM  Detailed trade matrix                          231   \n",
            "3            TM  Detailed trade matrix                          231   \n",
            "4            TM  Detailed trade matrix                          231   \n",
            "..          ...                    ...                          ...   \n",
            "571          TM  Detailed trade matrix                          231   \n",
            "572          TM  Detailed trade matrix                          231   \n",
            "573          TM  Detailed trade matrix                          231   \n",
            "574          TM  Detailed trade matrix                          231   \n",
            "575          TM  Detailed trade matrix                          231   \n",
            "\n",
            "           Reporter Countries  Partner Country Code (FAO) Partner Countries  \\\n",
            "0    United States of America                         138            Mexico   \n",
            "1    United States of America                         138            Mexico   \n",
            "2    United States of America                         138            Mexico   \n",
            "3    United States of America                         138            Mexico   \n",
            "4    United States of America                         138            Mexico   \n",
            "..                        ...                         ...               ...   \n",
            "571  United States of America                         138            Mexico   \n",
            "572  United States of America                         138            Mexico   \n",
            "573  United States of America                         138            Mexico   \n",
            "574  United States of America                         138            Mexico   \n",
            "575  United States of America                         138            Mexico   \n",
            "\n",
            "     Element Code          Element  Item Code (FAO)  \\\n",
            "0            5610  Import Quantity              862   \n",
            "1            5910  Export Quantity              862   \n",
            "2            5610  Import Quantity              231   \n",
            "3            5910  Export Quantity              231   \n",
            "4            5910  Export Quantity              221   \n",
            "..            ...              ...              ...   \n",
            "571          5610  Import Quantity              988   \n",
            "572          5910  Export Quantity              988   \n",
            "573          5610  Import Quantity              987   \n",
            "574          5610  Import Quantity              892   \n",
            "575          5910  Export Quantity              892   \n",
            "\n",
            "                             Item  Year Code  Year    Unit  Value Flag  \\\n",
            "0        Alfalfa meal and pellets       2020  2020  tonnes   7402  NaN   \n",
            "1        Alfalfa meal and pellets       2020  2020  tonnes     91  NaN   \n",
            "2                 Almonds shelled       2020  2020  tonnes     66  NaN   \n",
            "3                 Almonds shelled       2020  2020  tonnes  13169  NaN   \n",
            "4             Almonds, with shell       2020  2020  tonnes    229  NaN   \n",
            "..                            ...        ...   ...     ...    ...  ...   \n",
            "571               Wool, degreased       2020  2020  tonnes      0  NaN   \n",
            "572               Wool, degreased       2020  2020  tonnes    302  NaN   \n",
            "573                  Wool, greasy       2020  2020  tonnes      6  NaN   \n",
            "574  Yoghurt, concentrated or not       2020  2020  tonnes     11  NaN   \n",
            "575  Yoghurt, concentrated or not       2020  2020  tonnes   3484  NaN   \n",
            "\n",
            "    Flag Description  \n",
            "0      Official data  \n",
            "1      Official data  \n",
            "2      Official data  \n",
            "3      Official data  \n",
            "4      Official data  \n",
            "..               ...  \n",
            "571    Official data  \n",
            "572    Official data  \n",
            "573    Official data  \n",
            "574    Official data  \n",
            "575    Official data  \n",
            "\n",
            "[576 rows x 16 columns]\n"
          ]
        }
      ]
    },
    {
      "cell_type": "code",
      "source": [
        "printParam=['Item','Value','Unit']\n",
        "printNum=10\n",
        "print(\"Exports from US to Mexico\")\n",
        "print(expComp[printParam].head(printNum))\n",
        "print(\"\\n\\n\\n\\nImports from Mexico to US\")\n",
        "print(impComp[printParam].head(printNum))"
      ],
      "metadata": {
        "colab": {
          "base_uri": "https://localhost:8080/"
        },
        "id": "kYXeli1UPdKh",
        "outputId": "5ba8d0b6-bd79-49b6-eb9f-5ce5eda64cc5"
      },
      "execution_count": 5,
      "outputs": [
        {
          "output_type": "stream",
          "name": "stdout",
          "text": [
            "Exports from US to Mexico\n",
            "                                     Item     Value    Unit\n",
            "293                                 Maize  14637483  tonnes\n",
            "488                              Soybeans   4968772  tonnes\n",
            "565                                 Wheat   3148010  tonnes\n",
            "63                         Cake, soybeans   1756990  tonnes\n",
            "149      Dregs from brewing, distillation   1742136  tonnes\n",
            "199             Fructose and syrup, other    939307  tonnes\n",
            "314                         Meat, chicken    726674  tonnes\n",
            "467                           Rice, paddy    522343  tonnes\n",
            "322                             Meat, pig    468444  tonnes\n",
            "469  Rice, paddy (rice milled equivalent)    430491  tonnes\n",
            "\n",
            "\n",
            "\n",
            "\n",
            "Imports from Mexico to US\n",
            "                            Item    Value    Unit\n",
            "31                Beer of barley  3089012  tonnes\n",
            "525                     Tomatoes  1668601  tonnes\n",
            "97   Chillies and peppers, green  1010146  tonnes\n",
            "17                      Avocados  1004962  tonnes\n",
            "144       Cucumbers and gherkins   789313  tonnes\n",
            "282             Lemons and limes   743778  tonnes\n",
            "502        Sugar Raw Centrifugal   734830  tonnes\n",
            "420                       Pastry   725076  tonnes\n",
            "74                        Cattle   680197    Head\n",
            "559                  Watermelons   642440  tonnes\n"
          ]
        }
      ]
    },
    {
      "cell_type": "code",
      "source": [
        "#print(stuff)"
      ],
      "metadata": {
        "id": "rh_r3qDqeGM8"
      },
      "execution_count": 6,
      "outputs": []
    },
    {
      "cell_type": "code",
      "source": [
        "print(type(data))\n",
        "print(type(data['Pr_Crop_US']))"
      ],
      "metadata": {
        "id": "i93Uhp2Iarb1",
        "colab": {
          "base_uri": "https://localhost:8080/"
        },
        "outputId": "461ec48f-443e-4a89-da66-ab184be86de5"
      },
      "execution_count": 7,
      "outputs": [
        {
          "output_type": "stream",
          "name": "stdout",
          "text": [
            "<class 'dict'>\n",
            "<class 'numpy.ndarray'>\n"
          ]
        }
      ]
    },
    {
      "cell_type": "code",
      "source": [
        "#For getting yield\n",
        "search=str(input())\n",
        "coID=122\n",
        "gCount=0\n",
        "year=54\n",
        "for i in range(169):\n",
        "  cropID=i\n",
        "  cropName=str(data['FAOSTAT_CrName_FAO'][cropID])\n",
        "  testSplit=cropName.split(\"[\")\n",
        "  cropName=testSplit[2].split(\"]\")[0]\n",
        "  cropName=cropName.replace(\"'\",\"\")\n",
        "  coName=str(data['FAOSTAT_CoName_FAO'][coID])\n",
        "  testSplitCo=coName.split(\"[\")\n",
        "  coName=testSplitCo[2].split(\"]\")[0]\n",
        "  coName=coName.replace(\"'\",\"\")\n",
        "  #print(cropName)\n",
        "  if search.upper() in cropName.upper():\n",
        "    print(cropID)\n",
        "    print(data['FAOSTAT_CrName_FAO'][cropID])\n",
        "    print(float(data['Yield_FAO'][206][cropID][year])*float(data['AreaH_FAO'][206][cropID][year])/1000)"
      ],
      "metadata": {
        "colab": {
          "base_uri": "https://localhost:8080/"
        },
        "id": "R1F0dI9Dhzgv",
        "outputId": "920f767f-8726-44f1-a45c-f4649c982ab6"
      },
      "execution_count": 36,
      "outputs": [
        {
          "output_type": "stream",
          "name": "stdout",
          "text": [
            "wheat\n",
            "18\n",
            "[array(['Buckwheat'], dtype='<U9')]\n",
            "78381.77410000001\n",
            "166\n",
            "[array(['Wheat'], dtype='<U5')]\n",
            "55839411.253\n"
          ]
        }
      ]
    },
    {
      "cell_type": "code",
      "source": [
        "search=str(input())\n",
        "coID=122\n",
        "gCount=0\n",
        "for i in range(169):\n",
        "  cropID=i\n",
        "  cropName=str(data['FAOSTAT_CrName_FAO'][cropID])\n",
        "  testSplit=cropName.split(\"[\")\n",
        "  cropName=testSplit[2].split(\"]\")[0]\n",
        "  cropName=cropName.replace(\"'\",\"\")\n",
        "  coName=str(data['FAOSTAT_CoName_FAO'][coID])\n",
        "  testSplitCo=coName.split(\"[\")\n",
        "  coName=testSplitCo[2].split(\"]\")[0]\n",
        "  coName=coName.replace(\"'\",\"\")\n",
        "  #print(cropName)\n",
        "  if search.upper() in cropName.upper():\n",
        "    gCount+=1\n",
        "    y=data['Pr_Crop_US'][122][cropID]\n",
        "    #print(len(stuff['Pr_Crop_US'][0][0]))\n",
        "    x=np.arange(1961,2016)\n",
        "    plt.figure(i)\n",
        "    plt.title(coName+ \" \"+cropName+ \" Graph\")\n",
        "    plt.xlabel(\"Year\")\n",
        "    plt.ylabel(\"Crop price at farmer's gate (USD/KG) for \" + cropName)\n",
        "    plt.plot(x,y,color=\"red\")\n",
        "    plt.show"
      ],
      "metadata": {
        "id": "_B7dNANxZpZH",
        "colab": {
          "base_uri": "https://localhost:8080/",
          "height": 536
        },
        "outputId": "39aeea82-a914-4d9c-e9a0-7037f61ac1f2"
      },
      "execution_count": 27,
      "outputs": [
        {
          "output_type": "error",
          "ename": "KeyboardInterrupt",
          "evalue": "ignored",
          "traceback": [
            "\u001b[0;31m---------------------------------------------------------------------------\u001b[0m",
            "\u001b[0;31mKeyboardInterrupt\u001b[0m                         Traceback (most recent call last)",
            "\u001b[0;32m/usr/local/lib/python3.7/dist-packages/ipykernel/kernelbase.py\u001b[0m in \u001b[0;36m_input_request\u001b[0;34m(self, prompt, ident, parent, password)\u001b[0m\n\u001b[1;32m    728\u001b[0m             \u001b[0;32mtry\u001b[0m\u001b[0;34m:\u001b[0m\u001b[0;34m\u001b[0m\u001b[0;34m\u001b[0m\u001b[0m\n\u001b[0;32m--> 729\u001b[0;31m                 \u001b[0mident\u001b[0m\u001b[0;34m,\u001b[0m \u001b[0mreply\u001b[0m \u001b[0;34m=\u001b[0m \u001b[0mself\u001b[0m\u001b[0;34m.\u001b[0m\u001b[0msession\u001b[0m\u001b[0;34m.\u001b[0m\u001b[0mrecv\u001b[0m\u001b[0;34m(\u001b[0m\u001b[0mself\u001b[0m\u001b[0;34m.\u001b[0m\u001b[0mstdin_socket\u001b[0m\u001b[0;34m,\u001b[0m \u001b[0;36m0\u001b[0m\u001b[0;34m)\u001b[0m\u001b[0;34m\u001b[0m\u001b[0;34m\u001b[0m\u001b[0m\n\u001b[0m\u001b[1;32m    730\u001b[0m             \u001b[0;32mexcept\u001b[0m \u001b[0mException\u001b[0m\u001b[0;34m:\u001b[0m\u001b[0;34m\u001b[0m\u001b[0;34m\u001b[0m\u001b[0m\n",
            "\u001b[0;32m/usr/local/lib/python3.7/dist-packages/jupyter_client/session.py\u001b[0m in \u001b[0;36mrecv\u001b[0;34m(self, socket, mode, content, copy)\u001b[0m\n\u001b[1;32m    802\u001b[0m         \u001b[0;32mtry\u001b[0m\u001b[0;34m:\u001b[0m\u001b[0;34m\u001b[0m\u001b[0;34m\u001b[0m\u001b[0m\n\u001b[0;32m--> 803\u001b[0;31m             \u001b[0mmsg_list\u001b[0m \u001b[0;34m=\u001b[0m \u001b[0msocket\u001b[0m\u001b[0;34m.\u001b[0m\u001b[0mrecv_multipart\u001b[0m\u001b[0;34m(\u001b[0m\u001b[0mmode\u001b[0m\u001b[0;34m,\u001b[0m \u001b[0mcopy\u001b[0m\u001b[0;34m=\u001b[0m\u001b[0mcopy\u001b[0m\u001b[0;34m)\u001b[0m\u001b[0;34m\u001b[0m\u001b[0;34m\u001b[0m\u001b[0m\n\u001b[0m\u001b[1;32m    804\u001b[0m         \u001b[0;32mexcept\u001b[0m \u001b[0mzmq\u001b[0m\u001b[0;34m.\u001b[0m\u001b[0mZMQError\u001b[0m \u001b[0;32mas\u001b[0m \u001b[0me\u001b[0m\u001b[0;34m:\u001b[0m\u001b[0;34m\u001b[0m\u001b[0;34m\u001b[0m\u001b[0m\n",
            "\u001b[0;32m/usr/local/lib/python3.7/dist-packages/zmq/sugar/socket.py\u001b[0m in \u001b[0;36mrecv_multipart\u001b[0;34m(self, flags, copy, track)\u001b[0m\n\u001b[1;32m    624\u001b[0m         \"\"\"\n\u001b[0;32m--> 625\u001b[0;31m         \u001b[0mparts\u001b[0m \u001b[0;34m=\u001b[0m \u001b[0;34m[\u001b[0m\u001b[0mself\u001b[0m\u001b[0;34m.\u001b[0m\u001b[0mrecv\u001b[0m\u001b[0;34m(\u001b[0m\u001b[0mflags\u001b[0m\u001b[0;34m,\u001b[0m \u001b[0mcopy\u001b[0m\u001b[0;34m=\u001b[0m\u001b[0mcopy\u001b[0m\u001b[0;34m,\u001b[0m \u001b[0mtrack\u001b[0m\u001b[0;34m=\u001b[0m\u001b[0mtrack\u001b[0m\u001b[0;34m)\u001b[0m\u001b[0;34m]\u001b[0m\u001b[0;34m\u001b[0m\u001b[0;34m\u001b[0m\u001b[0m\n\u001b[0m\u001b[1;32m    626\u001b[0m         \u001b[0;31m# have first part already, only loop while more to receive\u001b[0m\u001b[0;34m\u001b[0m\u001b[0;34m\u001b[0m\u001b[0;34m\u001b[0m\u001b[0m\n",
            "\u001b[0;32mzmq/backend/cython/socket.pyx\u001b[0m in \u001b[0;36mzmq.backend.cython.socket.Socket.recv\u001b[0;34m()\u001b[0m\n",
            "\u001b[0;32mzmq/backend/cython/socket.pyx\u001b[0m in \u001b[0;36mzmq.backend.cython.socket.Socket.recv\u001b[0;34m()\u001b[0m\n",
            "\u001b[0;32mzmq/backend/cython/socket.pyx\u001b[0m in \u001b[0;36mzmq.backend.cython.socket._recv_copy\u001b[0;34m()\u001b[0m\n",
            "\u001b[0;32m/usr/local/lib/python3.7/dist-packages/zmq/backend/cython/checkrc.pxd\u001b[0m in \u001b[0;36mzmq.backend.cython.checkrc._check_rc\u001b[0;34m()\u001b[0m\n",
            "\u001b[0;31mKeyboardInterrupt\u001b[0m: ",
            "\nDuring handling of the above exception, another exception occurred:\n",
            "\u001b[0;31mKeyboardInterrupt\u001b[0m                         Traceback (most recent call last)",
            "\u001b[0;32m<ipython-input-27-d1172dd2866c>\u001b[0m in \u001b[0;36m<module>\u001b[0;34m()\u001b[0m\n\u001b[0;32m----> 1\u001b[0;31m \u001b[0msearch\u001b[0m\u001b[0;34m=\u001b[0m\u001b[0mstr\u001b[0m\u001b[0;34m(\u001b[0m\u001b[0minput\u001b[0m\u001b[0;34m(\u001b[0m\u001b[0;34m)\u001b[0m\u001b[0;34m)\u001b[0m\u001b[0;34m\u001b[0m\u001b[0;34m\u001b[0m\u001b[0m\n\u001b[0m\u001b[1;32m      2\u001b[0m \u001b[0mcoID\u001b[0m\u001b[0;34m=\u001b[0m\u001b[0;36m122\u001b[0m\u001b[0;34m\u001b[0m\u001b[0;34m\u001b[0m\u001b[0m\n\u001b[1;32m      3\u001b[0m \u001b[0mgCount\u001b[0m\u001b[0;34m=\u001b[0m\u001b[0;36m0\u001b[0m\u001b[0;34m\u001b[0m\u001b[0;34m\u001b[0m\u001b[0m\n\u001b[1;32m      4\u001b[0m \u001b[0;32mfor\u001b[0m \u001b[0mi\u001b[0m \u001b[0;32min\u001b[0m \u001b[0mrange\u001b[0m\u001b[0;34m(\u001b[0m\u001b[0;36m169\u001b[0m\u001b[0;34m)\u001b[0m\u001b[0;34m:\u001b[0m\u001b[0;34m\u001b[0m\u001b[0;34m\u001b[0m\u001b[0m\n\u001b[1;32m      5\u001b[0m   \u001b[0mcropID\u001b[0m\u001b[0;34m=\u001b[0m\u001b[0mi\u001b[0m\u001b[0;34m\u001b[0m\u001b[0;34m\u001b[0m\u001b[0m\n",
            "\u001b[0;32m/usr/local/lib/python3.7/dist-packages/ipykernel/kernelbase.py\u001b[0m in \u001b[0;36mraw_input\u001b[0;34m(self, prompt)\u001b[0m\n\u001b[1;32m    702\u001b[0m             \u001b[0mself\u001b[0m\u001b[0;34m.\u001b[0m\u001b[0m_parent_ident\u001b[0m\u001b[0;34m,\u001b[0m\u001b[0;34m\u001b[0m\u001b[0;34m\u001b[0m\u001b[0m\n\u001b[1;32m    703\u001b[0m             \u001b[0mself\u001b[0m\u001b[0;34m.\u001b[0m\u001b[0m_parent_header\u001b[0m\u001b[0;34m,\u001b[0m\u001b[0;34m\u001b[0m\u001b[0;34m\u001b[0m\u001b[0m\n\u001b[0;32m--> 704\u001b[0;31m             \u001b[0mpassword\u001b[0m\u001b[0;34m=\u001b[0m\u001b[0;32mFalse\u001b[0m\u001b[0;34m,\u001b[0m\u001b[0;34m\u001b[0m\u001b[0;34m\u001b[0m\u001b[0m\n\u001b[0m\u001b[1;32m    705\u001b[0m         )\n\u001b[1;32m    706\u001b[0m \u001b[0;34m\u001b[0m\u001b[0m\n",
            "\u001b[0;32m/usr/local/lib/python3.7/dist-packages/ipykernel/kernelbase.py\u001b[0m in \u001b[0;36m_input_request\u001b[0;34m(self, prompt, ident, parent, password)\u001b[0m\n\u001b[1;32m    732\u001b[0m             \u001b[0;32mexcept\u001b[0m \u001b[0mKeyboardInterrupt\u001b[0m\u001b[0;34m:\u001b[0m\u001b[0;34m\u001b[0m\u001b[0;34m\u001b[0m\u001b[0m\n\u001b[1;32m    733\u001b[0m                 \u001b[0;31m# re-raise KeyboardInterrupt, to truncate traceback\u001b[0m\u001b[0;34m\u001b[0m\u001b[0;34m\u001b[0m\u001b[0;34m\u001b[0m\u001b[0m\n\u001b[0;32m--> 734\u001b[0;31m                 \u001b[0;32mraise\u001b[0m \u001b[0mKeyboardInterrupt\u001b[0m\u001b[0;34m\u001b[0m\u001b[0;34m\u001b[0m\u001b[0m\n\u001b[0m\u001b[1;32m    735\u001b[0m             \u001b[0;32melse\u001b[0m\u001b[0;34m:\u001b[0m\u001b[0;34m\u001b[0m\u001b[0;34m\u001b[0m\u001b[0m\n\u001b[1;32m    736\u001b[0m                 \u001b[0;32mbreak\u001b[0m\u001b[0;34m\u001b[0m\u001b[0;34m\u001b[0m\u001b[0m\n",
            "\u001b[0;31mKeyboardInterrupt\u001b[0m: "
          ]
        }
      ]
    },
    {
      "cell_type": "code",
      "source": [
        "print(\"total number of graphs \" + str(gCount))"
      ],
      "metadata": {
        "id": "PUtDfaoEh7Pv"
      },
      "execution_count": null,
      "outputs": []
    },
    {
      "cell_type": "markdown",
      "source": [
        "The crop price starts to stabalize around the time that nafta was enacted (1994)"
      ],
      "metadata": {
        "id": "ByIlNmbHc0z6"
      }
    },
    {
      "cell_type": "markdown",
      "source": [
        "Index for US: 206\n",
        "Index for Mexico: 122\n",
        "Index for Canada: 33"
      ],
      "metadata": {
        "id": "jGfhKi7fGyo3"
      }
    },
    {
      "cell_type": "code",
      "source": [
        "search=str(input())\n",
        "coID=122\n",
        "gCount=0\n",
        "for i in range(len(data['Pr_Crop_US'][coID])):\n",
        "  cropID=i\n",
        "  cropName=str(data['FAOSTAT_CrName_FAO'][cropID])\n",
        "  testSplit=cropName.split(\"[\")\n",
        "  cropName=testSplit[2].split(\"]\")[0]\n",
        "  cropName=cropName.replace(\"'\",\"\")\n",
        "  coName=str(data['FAOSTAT_CoName_FAO'][coID])\n",
        "  testSplitCo=coName.split(\"[\")\n",
        "  coName=testSplitCo[2].split(\"]\")[0]\n",
        "  coName=coName.replace(\"'\",\"\")\n",
        "  #print(cropName)\n",
        "  if search.upper() in cropName.upper():\n",
        "  #if 1:\n",
        "    gCount+=1\n",
        "    y=data['Pr_Crop_US'][coID][cropID]\n",
        "    #print(len(stuff['Pr_Crop_US'][0][0]))\n",
        "    x=np.arange(1961,2016)\n",
        "    plt.figure(i)\n",
        "    plt.title(coName+ \" \"+cropName+ \" Nitrogen Production Graph\")\n",
        "    plt.xlabel(\"Year\")\n",
        "    plt.ylabel(\"Nitrogen Production of  \" + cropName)\n",
        "    plt.plot(x,y,color=\"green\")\n",
        "    plt.show"
      ],
      "metadata": {
        "id": "BGLnIjOeLIm7"
      },
      "execution_count": null,
      "outputs": []
    },
    {
      "cell_type": "code",
      "source": [
        "search=str(input())\n",
        "countriesID=[122,206]\n",
        "colors=['red','gold']\n",
        "gCount=0\n",
        "counter=0\n",
        "for j in countriesID:\n",
        "  coID=j\n",
        "  counter+=1\n",
        "  for i in range(len(data['Pr_Crop_US'][coID])):\n",
        "    cropID=i\n",
        "    cropName=str(data['FAOSTAT_CrName_FAO'][cropID])\n",
        "    testSplit=cropName.split(\"[\")\n",
        "    cropName=testSplit[2].split(\"]\")[0]\n",
        "    cropName=cropName.replace(\"'\",\"\")\n",
        "    coName=str(data['FAOSTAT_CoName_FAO'][coID])\n",
        "    testSplitCo=coName.split(\"[\")\n",
        "    coName=testSplitCo[2].split(\"]\")[0]\n",
        "    coName=coName.replace(\"'\",\"\")\n",
        "    #print(cropName)\n",
        "    if search.upper() in cropName.upper():\n",
        "    #if 1:\n",
        "      gCount+=1\n",
        "      y=data['Yield_FAO'][coID][cropID]\n",
        "      #print(len(stuff['Pr_Crop_US'][0][0]))\n",
        "      x=np.arange(1961,2016)\n",
        "      plt.figure(i)\n",
        "      plt.title(coName+ \" \"+cropName+ \" Total Crop Yield Graph\")\n",
        "      plt.xlabel(\"Year\")\n",
        "      plt.ylabel(\"Crop yield(kg/km2): \" + cropName)\n",
        "      plt.plot(x,y,color=colors[counter-1],label=coName)\n",
        "      plt.legend()\n",
        "      plt.show"
      ],
      "metadata": {
        "id": "htE2HqRfPKDg"
      },
      "execution_count": null,
      "outputs": []
    },
    {
      "cell_type": "code",
      "source": [
        "search=str(input())\n",
        "countriesID=[122,206]\n",
        "colors=['blue','green']\n",
        "gCount=0\n",
        "counter=0\n",
        "for j in countriesID:\n",
        "  coID=j\n",
        "  counter+=1\n",
        "  for i in range(len(data['Nyield_kgkm'][coID])):\n",
        "    cropID=i\n",
        "    cropName=str(data['FAOSTAT_CrName_FAO'][cropID])\n",
        "    testSplit=cropName.split(\"[\")\n",
        "    cropName=testSplit[2].split(\"]\")[0]\n",
        "    cropName=cropName.replace(\"'\",\"\")\n",
        "    coName=str(data['FAOSTAT_CoName_FAO'][coID])\n",
        "    testSplitCo=coName.split(\"[\")\n",
        "    coName=testSplitCo[2].split(\"]\")[0]\n",
        "    coName=coName.replace(\"'\",\"\")\n",
        "    #print(cropName)\n",
        "    if search.upper() in cropName.upper():\n",
        "    #if 1:\n",
        "      gCount+=1\n",
        "      y=data['Nyield_kgkm'][coID][cropID]\n",
        "      #print(len(stuff['Pr_Crop_US'][0][0]))\n",
        "      x=np.arange(1961,2016)\n",
        "      plt.figure(i)\n",
        "      plt.title(cropName+ \" Total Crop Nitrogen Yield Graph\")\n",
        "      plt.xlabel(\"Year\")\n",
        "      plt.ylabel(\"Nitrogen yield(kg/km): \" + cropName)\n",
        "      plt.plot(x,y,color=colors[counter-1],label=coName)\n",
        "      plt.legend()\n",
        "      plt.show"
      ],
      "metadata": {
        "id": "QBcAYIccrvNZ"
      },
      "execution_count": null,
      "outputs": []
    },
    {
      "cell_type": "code",
      "source": [
        "y=data['Nyield_kgkm'][206][124]\n",
        "print(len(data['Pr_Crop_US'][0][1]))\n",
        "x=np.arange(1961,2016)\n",
        "plt.title(\"US Nitrogen content yield graph\")\n",
        "plt.xlabel(\"Year\")\n",
        "plt.ylabel(\"Nitrogen content (kg)\")\n",
        "plt.plot(x,y,color=\"green\")\n",
        "plt.show"
      ],
      "metadata": {
        "id": "7JDsB_bnbqHR"
      },
      "execution_count": null,
      "outputs": []
    },
    {
      "cell_type": "code",
      "source": [
        "y=data['netImTrade'][124][5][5]\n",
        "#print(len(stuff['Pr_Crop_US'][0][1]))\n",
        "x=np.arange(0,218)\n",
        "plt.title(\"Net trade of potatoes in the US\")\n",
        "plt.xlabel(\"Year\")\n",
        "plt.ylabel(\"kg of potatoes\")\n",
        "plt.plot(x,y,color=\"brown\")\n",
        "plt.show"
      ],
      "metadata": {
        "id": "CTF1luphI0N_"
      },
      "execution_count": null,
      "outputs": []
    },
    {
      "cell_type": "code",
      "source": [
        "for i in range(170):\n",
        "  print(data['FAOSTAT_CrName_FAO'][i])\n",
        "  print(\"Index\" +str(i))"
      ],
      "metadata": {
        "id": "OYwmUeEQGEF5"
      },
      "execution_count": null,
      "outputs": []
    },
    {
      "cell_type": "code",
      "source": [
        "for i in range(209):\n",
        "  print(data['FAOSTAT_CoName_FAO'][i])\n",
        "  print(\"Index\" +str(i))"
      ],
      "metadata": {
        "id": "nH9Z_9_vGQ2i"
      },
      "execution_count": null,
      "outputs": []
    }
  ]
}