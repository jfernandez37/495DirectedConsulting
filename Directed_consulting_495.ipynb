{
  "nbformat": 4,
  "nbformat_minor": 0,
  "metadata": {
    "colab": {
      "name": "Directed consulting 495",
      "provenance": [],
      "include_colab_link": true
    },
    "kernelspec": {
      "name": "python3",
      "display_name": "Python 3"
    },
    "language_info": {
      "name": "python"
    }
  },
  "cells": [
    {
      "cell_type": "markdown",
      "metadata": {
        "id": "view-in-github",
        "colab_type": "text"
      },
      "source": [
        "<a href=\"https://colab.research.google.com/github/jfernandez37/495Project/blob/main/Directed_consulting_495.ipynb\" target=\"_parent\"><img src=\"https://colab.research.google.com/assets/colab-badge.svg\" alt=\"Open In Colab\"/></a>"
      ]
    },
    {
      "cell_type": "code",
      "source": [
        "import pandas as pd\n",
        "import numpy as np\n",
        "import scipy.io as sio\n",
        "import plotly\n",
        "import matplotlib.pyplot as plt"
      ],
      "metadata": {
        "id": "-btvoRMjcVXL"
      },
      "execution_count": null,
      "outputs": []
    },
    {
      "cell_type": "code",
      "source": [
        "stuff=sio.loadmat(\"iFarmData(2015)_1_28_2019.mat\")"
      ],
      "metadata": {
        "id": "2JUPlT2scyNi"
      },
      "execution_count": 8,
      "outputs": []
    },
    {
      "cell_type": "code",
      "source": [
        "#print(stuff)"
      ],
      "metadata": {
        "id": "rh_r3qDqeGM8"
      },
      "execution_count": 13,
      "outputs": []
    },
    {
      "cell_type": "code",
      "source": [
        "print(type(stuff))\n",
        "print(type(stuff['Pr_Crop_US']))"
      ],
      "metadata": {
        "id": "i93Uhp2Iarb1",
        "colab": {
          "base_uri": "https://localhost:8080/"
        },
        "outputId": "f559485a-911f-45ab-f6ae-c6c6fb95dac6"
      },
      "execution_count": 10,
      "outputs": [
        {
          "output_type": "stream",
          "name": "stdout",
          "text": [
            "<class 'dict'>\n",
            "<class 'numpy.ndarray'>\n"
          ]
        }
      ]
    },
    {
      "cell_type": "code",
      "source": [
        "y=stuff['Pr_Crop_US'][2][1]\n",
        "#print(len(stuff['Pr_Crop_US'][0][0]))\n",
        "x=np.arange(1961,2016)\n",
        "plt.title(\"US Crop Graph\")\n",
        "plt.xlabel(\"Year\")\n",
        "plt.ylabel(\"Crop price at farmer's gate (USD/KG)\")\n",
        "plt.plot(x,y,color=\"red\")\n",
        "plt.show"
      ],
      "metadata": {
        "id": "_B7dNANxZpZH",
        "colab": {
          "base_uri": "https://localhost:8080/",
          "height": 312
        },
        "outputId": "f7fc17e7-d651-41b3-9c54-da96127cd852"
      },
      "execution_count": 12,
      "outputs": [
        {
          "output_type": "execute_result",
          "data": {
            "text/plain": [
              "<function matplotlib.pyplot.show>"
            ]
          },
          "metadata": {},
          "execution_count": 12
        },
        {
          "output_type": "display_data",
          "data": {
            "image/png": "[encoded data removed]",
            "text/plain": [
              "<Figure size 432x288 with 1 Axes>"
            ]
          },
          "metadata": {
            "needs_background": "light"
          }
        }
      ]
    },
    {
      "cell_type": "markdown",
      "source": [
        "The crop price starts to stabalize around the time that nafta was enacted (1994)"
      ],
      "metadata": {
        "id": "ByIlNmbHc0z6"
      }
    },
    {
      "cell_type": "code",
      "source": [
        "y=stuff['Nyield_kgkm'][0][1]\n",
        "print(len(stuff['Pr_Crop_US'][0][1]))\n",
        "x=np.arange(1966,2021)\n",
        "plt.title(\"US Nitrogen content yield graph\")\n",
        "plt.xlabel(\"Year\")\n",
        "plt.ylabel(\"Nitrogen content (kg)\")\n",
        "plt.plot(x,y,color=\"green\")\n",
        "plt.show"
      ],
      "metadata": {
        "id": "7JDsB_bnbqHR"
      },
      "execution_count": null,
      "outputs": []
    }
  ]
}